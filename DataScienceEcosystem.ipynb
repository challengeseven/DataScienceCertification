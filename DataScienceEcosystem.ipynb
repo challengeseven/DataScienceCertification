{
 "cells": [
  {
   "cell_type": "markdown",
   "id": "98d5fcf6-cf07-41dd-9bf0-7f9ce7058183",
   "metadata": {},
   "source": [
    "# Data Science Tools and Ecosystem"
   ]
  },
  {
   "cell_type": "markdown",
   "id": "88259447-f576-4e1a-9cd2-a1f85257b243",
   "metadata": {},
   "source": [
    "In this notebook, Data Science Tools and Ecosystem are summarized."
   ]
  },
  {
   "cell_type": "markdown",
   "id": "59ead8e1-3854-4294-8a6a-7a8287cd2205",
   "metadata": {},
   "source": [
    "**Objectives:**\n",
    "* Python\n",
    "* R\n",
    "* Julia\n",
    "* Scala"
   ]
  },
  {
   "cell_type": "markdown",
   "id": "8ce7675b-c344-416b-9cb9-0f1874f87b96",
   "metadata": {},
   "source": [
    "Some of the popular languages that Data Scientists use are:\n",
    "1. Python\n",
    "2. R\n",
    "3. Julia\n",
    "4. Scala"
   ]
  },
  {
   "cell_type": "markdown",
   "id": "16f9a9dd-b985-4a27-8fde-c26eb1121b48",
   "metadata": {},
   "source": [
    " Some of the commonly used libraries used by Data Scientists include:\n",
    " 1. NumPy\n",
    " 2. pandas\n",
    " 3. Keras\n",
    " 4. scikit-learn"
   ]
  },
  {
   "cell_type": "markdown",
   "id": "0c7ad8dc-9466-490d-aa53-e8c226222e61",
   "metadata": {},
   "source": [
    "|Data Science Tools|\n",
    "|------------------| \n",
    "|Jupyter Notebook|\n",
    "|RStudio| \n",
    "|VS Code| "
   ]
  },
  {
   "cell_type": "markdown",
   "id": "fa3d61d4-eeae-4b3f-9100-33b93c68b9a3",
   "metadata": {},
   "source": [
    "### Below are a few examples of evaluating arithmetic expressions in Python"
   ]
  },
  {
   "cell_type": "code",
   "execution_count": 1,
   "id": "aae90f55-0dc6-405c-891c-396cbc09b8e2",
   "metadata": {},
   "outputs": [
    {
     "data": {
      "text/plain": [
       "17"
      ]
     },
     "execution_count": 1,
     "metadata": {},
     "output_type": "execute_result"
    }
   ],
   "source": [
    "# This a simple arithmetic expression to mutiply then add integers\n",
    "(3*4)+5"
   ]
  },
  {
   "cell_type": "code",
   "execution_count": 3,
   "id": "55bc3a4f-ffa3-473c-9312-a027c4c5395f",
   "metadata": {},
   "outputs": [
    {
     "data": {
      "text/plain": [
       "3.3333333333333335"
      ]
     },
     "execution_count": 3,
     "metadata": {},
     "output_type": "execute_result"
    }
   ],
   "source": [
    "# This will convert 200 minutes to hours by diving by 60\n",
    "minutes = 200\n",
    "hours = minutes/60\n",
    "hours"
   ]
  },
  {
   "cell_type": "markdown",
   "id": "141b9f1b-bc0d-4255-9e06-b3e3ce9898fb",
   "metadata": {},
   "source": [
    "## Author\n",
    "Sai Madishetty"
   ]
  },
  {
   "cell_type": "code",
   "execution_count": null,
   "id": "382bd4d2-6546-4d52-bd7f-4fdd990ca9e5",
   "metadata": {},
   "outputs": [],
   "source": []
  },
  {
   "cell_type": "code",
   "execution_count": null,
   "id": "7fb91a61-5ab5-4781-8b26-5bbeaf5aa50b",
   "metadata": {},
   "outputs": [],
   "source": []
  },
  {
   "cell_type": "code",
   "execution_count": null,
   "id": "1046d132-7ca5-4f57-a772-eb8ca6d2cf2b",
   "metadata": {},
   "outputs": [],
   "source": []
  },
  {
   "cell_type": "code",
   "execution_count": null,
   "id": "472ac83d-b64d-4207-83c9-c48f7bc6f094",
   "metadata": {},
   "outputs": [],
   "source": []
  },
  {
   "cell_type": "code",
   "execution_count": null,
   "id": "e86f0b13-4578-456f-8534-e8e765eb13ca",
   "metadata": {},
   "outputs": [],
   "source": []
  }
 ],
 "metadata": {
  "kernelspec": {
   "display_name": "Python 3 (ipykernel)",
   "language": "python",
   "name": "python3"
  },
  "language_info": {
   "codemirror_mode": {
    "name": "ipython",
    "version": 3
   },
   "file_extension": ".py",
   "mimetype": "text/x-python",
   "name": "python",
   "nbconvert_exporter": "python",
   "pygments_lexer": "ipython3",
   "version": "3.12.7"
  }
 },
 "nbformat": 4,
 "nbformat_minor": 5
}
